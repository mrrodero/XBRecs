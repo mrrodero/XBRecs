{
 "cells": [
  {
   "cell_type": "markdown",
   "metadata": {},
   "source": [
    "### Creación de dataset con tantas columnas como componentes de los vectores"
   ]
  },
  {
   "cell_type": "markdown",
   "metadata": {},
   "source": [
    "Como se usará para *baseline* un modelo KNN, hay que transformar el dataset para que cada una de las coordenadas de los vectores sea tratada como una característica individual. Es decir, habrá que crear un dataset nuevo con tantas columnas como campos tengan los vectores de cada columna. Se seguirá el siguiente esquema de renombramiento:\n",
    "\n",
    "- `semantic_sbert` ----> `semantic_sbert_1`, `semantic_sbert_2`, ..., `semantic_sbert_768`\n",
    "- `semantic_use` ----> `semantic_use_1`, `semantic_use2`, ..., `semantic_use_512`\n",
    "- `sentiment` ----> `admiration`, `amusement`, ..., `surprise`"
   ]
  },
  {
   "cell_type": "code",
   "execution_count": null,
   "metadata": {},
   "outputs": [],
   "source": [
    "import os\n",
    "import pandas as pd\n",
    "\n",
    "# Ruta de datasets en bruto\n",
    "raw_path = os.path.join(os.getcwd(), \"../..\", \"datasets\", \"raw\")\n",
    "\n",
    "# Lectura del dataset de libros en bruto (coincidirá con el procesado después de limpiarlo)\n",
    "books_df = pd.DataFrame(pd.read_pickle(raw_path + \"/books_raw.pkl\"))\n",
    "print(\"# de libros:\", books_df.shape[0])"
   ]
  },
  {
   "cell_type": "code",
   "execution_count": null,
   "metadata": {},
   "outputs": [],
   "source": [
    "# Create a new column for each element of the arrays in column semantic_sbert\n",
    "long_df = pd.DataFrame(books_df['book_id'].tolist(), columns=['book_id'])\n",
    "long_df = pd.concat([long_df, pd.DataFrame(books_df['semantic_sbert'].tolist(), columns=['semantic_sbert_' + str(i) for i in range(1, 769)])], axis=1)\n",
    "long_df = pd.concat([long_df, pd.DataFrame(books_df['semantic_use'].tolist(), columns=['semantic_use_' + str(i) for i in range(1, 513)])], axis=1)\n",
    "long_df"
   ]
  },
  {
   "cell_type": "code",
   "execution_count": null,
   "metadata": {},
   "outputs": [],
   "source": [
    "emotions = ['disappointment', 'sadness', 'annoyance', 'neutral', 'disapproval', 'realization', 'nervousness', 'approval', 'joy', 'anger', 'embarrassment', 'caring', 'remorse', 'disgust', 'grief', 'confusion', 'relief', 'desire', 'admiration', 'optimism', 'fear', 'love', 'excitement', 'curiosity', 'amusement', 'surprise', 'gratitude', 'pride']\n",
    "emotions.sort()\n",
    "print(emotions)"
   ]
  },
  {
   "cell_type": "code",
   "execution_count": null,
   "metadata": {},
   "outputs": [],
   "source": [
    "long_df = pd.concat([long_df, pd.DataFrame(books_df['sentiment'].tolist(), columns=emotions)], axis=1)\n",
    "long_df"
   ]
  },
  {
   "cell_type": "code",
   "execution_count": null,
   "metadata": {},
   "outputs": [],
   "source": [
    "long_df.to_csv(raw_path + \"/books_knn.csv\", index=False)"
   ]
  }
 ],
 "metadata": {
  "kernelspec": {
   "display_name": "tfg_info",
   "language": "python",
   "name": "python3"
  },
  "language_info": {
   "name": "python",
   "version": "3.10.12"
  }
 },
 "nbformat": 4,
 "nbformat_minor": 2
}
