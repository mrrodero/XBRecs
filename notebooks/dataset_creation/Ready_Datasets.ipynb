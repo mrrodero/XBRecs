{
 "cells": [
  {
   "cell_type": "markdown",
   "metadata": {},
   "source": [
    "## Preparación de datasets"
   ]
  },
  {
   "cell_type": "markdown",
   "metadata": {},
   "source": [
    "En este *notebook* vamos a limpiar los datasets en bruto que se habían obtenido. El objetivo es obtener la versión final del dataset de ratings que usaremos para obtener los datasets de entrenamiento, test y validación."
   ]
  },
  {
   "cell_type": "code",
   "execution_count": null,
   "metadata": {},
   "outputs": [],
   "source": [
    "import os\n",
    "import pandas as pd\n",
    "\n",
    "# Ruta de datasets en bruto\n",
    "raw_path = os.path.join(os.getcwd(), \"../..\", \"datasets\", \"raw\")\n",
    "\n",
    "# Lectura del dataset de ratings\n",
    "col_types = {\n",
    "    'user_id': 'int32',\n",
    "    'book_id': 'int32',\n",
    "    'rating': 'int8',\n",
    "}\n",
    "ratings_df = pd.read_csv(raw_path + \"/ratings_raw.csv\", index_col=0, dtype=col_types)\n",
    "print(\"# de ratings:\", ratings_df.shape[0])"
   ]
  },
  {
   "cell_type": "markdown",
   "metadata": {},
   "source": [
    "En el dataset de ratings original, las puntuaciones están en una escala del 1 al 5. Para que las puntuaciones caigan en el intervalo $(0, 1)$ debemos reescalar la columna `rating` del dataset de valoraciones de usuario. Seguimos la siguiente transformación lineal: $$y = \\frac{x - 1}{5 - 1} = \\frac{x - 1}{4},$$ donde $x$ es la rating original e $y$ su nuevo valor. \n",
    "\n",
    "Queremos que estén en esta escala por las métricas de similitud que posteriormente usaremos en el modelo para evaluarlo."
   ]
  },
  {
   "cell_type": "code",
   "execution_count": null,
   "metadata": {},
   "outputs": [],
   "source": [
    "# Ponemos el rating en una escala de 0 a 1\n",
    "ratings_df['rating'] = ratings_df['rating'].apply(lambda x: (x - 1)/4.0)\n",
    "ratings_df['rating'] = ratings_df['rating'].astype('float32')\n",
    "ratings_df.head()"
   ]
  },
  {
   "cell_type": "markdown",
   "metadata": {},
   "source": [
    "Vamos a cribar el dataset de ratings quedándonos con aquellos usuarios que tengan 20 o más libros que hayan valorado positivamente. Definimos como bien valorados aquellos libros con un rating mayor o igual a 0.75 (originalmente, el usuario le dio una puntuación >= 4). \n",
    "\n",
    "Todos los libros tienen un gran número de valoraciones, por lo que no tenemos que preocuparnos de seleccionar aquellos con un mínimo de ratings. Esto ya se analizó en el *notebook* sobre el dataset `goodbooks-10k`."
   ]
  },
  {
   "cell_type": "code",
   "execution_count": null,
   "metadata": {},
   "outputs": [],
   "source": [
    "# Seleccionamos los usuarios con k o más valoraciones positivas (rating >= 0.75)\n",
    "k = 20\n",
    "positive_ratings_df = ratings_df[ratings_df['rating'] >= 0.75]\n",
    "positive_ratings_df = positive_ratings_df.groupby('user_id').filter(lambda x: len(x) >= k)\n",
    "users_with_enough_positive_ratings = positive_ratings_df['user_id'].unique()\n",
    "print(f\"# de usuarios con al menos {k} ratings positivos:\", users_with_enough_positive_ratings.shape[0])"
   ]
  },
  {
   "cell_type": "code",
   "execution_count": null,
   "metadata": {},
   "outputs": [],
   "source": [
    "# Quitamos de ratings aquellos usuarios que no tienen suficientes valoraciones positivas\n",
    "ratings_filtered_df = ratings_df[ratings_df['user_id'].isin(users_with_enough_positive_ratings)].copy()\n",
    "ratings_filtered_df.sort_values(by=['user_id', 'book_id'], inplace=True)\n",
    "ratings_filtered_df.reset_index(drop=True, inplace=True)\n",
    "print(\"# de ratings:\", ratings_filtered_df.shape[0])"
   ]
  },
  {
   "cell_type": "code",
   "execution_count": null,
   "metadata": {},
   "outputs": [],
   "source": [
    "# Ruta de datasets preparados\n",
    "ready_path = os.path.join(os.getcwd(), \"../..\", \"datasets\", \"ready\")\n",
    "\n",
    "# Se guarda el dataset de ratings filtrado\n",
    "ratings_filtered_df.to_csv(ready_path + \"/ratings.csv\", index=False)"
   ]
  }
 ],
 "metadata": {
  "kernelspec": {
   "display_name": "tfg_info",
   "language": "python",
   "name": "python3"
  },
  "language_info": {
   "codemirror_mode": {
    "name": "ipython",
    "version": 3
   },
   "file_extension": ".py",
   "mimetype": "text/x-python",
   "name": "python",
   "nbconvert_exporter": "python",
   "pygments_lexer": "ipython3",
   "version": "3.10.12"
  }
 },
 "nbformat": 4,
 "nbformat_minor": 2
}
