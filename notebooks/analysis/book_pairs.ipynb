{
 "cells": [
  {
   "cell_type": "markdown",
   "metadata": {},
   "source": [
    "## Comparación de similitud entre libros\n",
    "En este *notebook* se va a mostrar la similitud entre parejas de libros para comprobar que, en efecto, su forma de representación y función de similitud cobran sentido a la hora de ser comparados. Para ello, se tomarán 3 conjuntos de 2000 parejas de libros cada uno de ellos. El primer conjunto consistirá de parejas formadas aleatoriamente, el segundo de parejas de libros de mismo autor y, finalmente, el tercer conjunto consistirá de parejas de libros que comparten género. Para cada uno de estos conjuntos, se calculará la similitud media. Se espera como resultado que la similitud aleatoria sea comparativamente menor que las otras dos similitudes medias."
   ]
  },
  {
   "cell_type": "code",
   "execution_count": 1,
   "metadata": {},
   "outputs": [],
   "source": [
    "import os\n",
    "import pandas as pd\n",
    "from ast import literal_eval\n",
    "\n",
    "dataset_path = os.path.join(os.getcwd(), '..', '..', 'datasets')\n",
    "goodbooks_path = os.path.join(dataset_path, 'goodbooks_ext', 'books_enriched.csv')\n",
    "# Dataset de libros de Goodbooks Extended\n",
    "books = pd.read_csv(\n",
    "    goodbooks_path, index_col=[0], converters={\"authors\": literal_eval, \"genres\": literal_eval}\n",
    ")\n",
    "raw_path = os.path.join(dataset_path, 'raw', 'books_raw.pkl')\n",
    "# Dataset de representación semántica de libros\n",
    "books_raw: pd.DataFrame = pd.read_pickle(raw_path)\n",
    "books_raw_ids = books_raw['book_id'].values\n",
    "books_reduced = books[books['book_id'].isin(books_raw_ids)]\n",
    "books_info = books_reduced[['book_id', 'title', 'authors', 'genres']].copy()"
   ]
  },
  {
   "cell_type": "markdown",
   "metadata": {},
   "source": [
    "### Parejas aleatorias"
   ]
  },
  {
   "cell_type": "code",
   "execution_count": 2,
   "metadata": {},
   "outputs": [
    {
     "data": {
      "text/plain": [
       "(0.25669712, 0.11769364)"
      ]
     },
     "execution_count": 2,
     "metadata": {},
     "output_type": "execute_result"
    }
   ],
   "source": [
    "import random\n",
    "import numpy as np\n",
    "\n",
    "random.seed(42)\n",
    "N = 4000\n",
    "# Elección aleatoria para formar parejas de libros\n",
    "random_book_ids: list[int] = random.sample(books_raw_ids.tolist(), N)\n",
    "pairs = [(random_book_ids[i], random_book_ids[i + 1]) for i in range(0, N, 2)]\n",
    "# Calcular similitud entre campos 'semantic_sbert' de cada pareja\n",
    "sims = [\n",
    "    np.dot(\n",
    "        books_raw[books_raw['book_id'] == id1]['semantic_sbert'].values[0],\n",
    "        books_raw[books_raw['book_id'] == id2]['semantic_sbert'].values[0]\n",
    "    )\n",
    "    for (id1, id2) in pairs\n",
    "]\n",
    "np.mean(sims), np.std(sims)"
   ]
  },
  {
   "cell_type": "markdown",
   "metadata": {},
   "source": [
    "### Parejas de libros con mismo autor"
   ]
  },
  {
   "cell_type": "code",
   "execution_count": 3,
   "metadata": {},
   "outputs": [
    {
     "data": {
      "text/html": [
       "<div>\n",
       "<style scoped>\n",
       "    .dataframe tbody tr th:only-of-type {\n",
       "        vertical-align: middle;\n",
       "    }\n",
       "\n",
       "    .dataframe tbody tr th {\n",
       "        vertical-align: top;\n",
       "    }\n",
       "\n",
       "    .dataframe thead th {\n",
       "        text-align: right;\n",
       "    }\n",
       "</style>\n",
       "<table border=\"1\" class=\"dataframe\">\n",
       "  <thead>\n",
       "    <tr style=\"text-align: right;\">\n",
       "      <th></th>\n",
       "      <th>book_id</th>\n",
       "      <th>title</th>\n",
       "      <th>authors</th>\n",
       "      <th>genres</th>\n",
       "    </tr>\n",
       "  </thead>\n",
       "  <tbody>\n",
       "    <tr>\n",
       "      <th>0</th>\n",
       "      <td>1</td>\n",
       "      <td>The Hunger Games (The Hunger Games, #1)</td>\n",
       "      <td>Suzanne Collins</td>\n",
       "      <td>[young-adult, fiction, fantasy, science-fictio...</td>\n",
       "    </tr>\n",
       "    <tr>\n",
       "      <th>1</th>\n",
       "      <td>2</td>\n",
       "      <td>Harry Potter and the Sorcerer's Stone (Harry P...</td>\n",
       "      <td>J.K. Rowling</td>\n",
       "      <td>[fantasy, fiction, young-adult, classics]</td>\n",
       "    </tr>\n",
       "    <tr>\n",
       "      <th>2</th>\n",
       "      <td>3</td>\n",
       "      <td>Twilight (Twilight, #1)</td>\n",
       "      <td>Stephenie Meyer</td>\n",
       "      <td>[young-adult, fantasy, romance, fiction, paran...</td>\n",
       "    </tr>\n",
       "    <tr>\n",
       "      <th>3</th>\n",
       "      <td>4</td>\n",
       "      <td>To Kill a Mockingbird</td>\n",
       "      <td>Harper Lee</td>\n",
       "      <td>[classics, fiction, historical-fiction, young-...</td>\n",
       "    </tr>\n",
       "    <tr>\n",
       "      <th>5</th>\n",
       "      <td>6</td>\n",
       "      <td>The Fault in Our Stars</td>\n",
       "      <td>John Green</td>\n",
       "      <td>[young-adult, romance, fiction, contemporary]</td>\n",
       "    </tr>\n",
       "  </tbody>\n",
       "</table>\n",
       "</div>"
      ],
      "text/plain": [
       "   book_id                                              title  \\\n",
       "0        1            The Hunger Games (The Hunger Games, #1)   \n",
       "1        2  Harry Potter and the Sorcerer's Stone (Harry P...   \n",
       "2        3                            Twilight (Twilight, #1)   \n",
       "3        4                              To Kill a Mockingbird   \n",
       "5        6                             The Fault in Our Stars   \n",
       "\n",
       "           authors                                             genres  \n",
       "0  Suzanne Collins  [young-adult, fiction, fantasy, science-fictio...  \n",
       "1     J.K. Rowling          [fantasy, fiction, young-adult, classics]  \n",
       "2  Stephenie Meyer  [young-adult, fantasy, romance, fiction, paran...  \n",
       "3       Harper Lee  [classics, fiction, historical-fiction, young-...  \n",
       "5       John Green      [young-adult, romance, fiction, contemporary]  "
      ]
     },
     "execution_count": 3,
     "metadata": {},
     "output_type": "execute_result"
    }
   ],
   "source": [
    "# Tomar autores que tengan al menos 2 libros\n",
    "books_info['authors'] = books_info['authors'].apply(lambda x: x[0])\n",
    "books_info['authors'] = books_info['authors'].apply(lambda x: x.strip('[').strip(']'))\n",
    "author_count = books_info['authors'].value_counts()\n",
    "author_count = author_count[author_count > 1]\n",
    "author_ids = author_count.index.tolist()\n",
    "books_info = books_info[books_info['authors'].isin(author_ids)]\n",
    "books_info.head()"
   ]
  },
  {
   "cell_type": "code",
   "execution_count": 4,
   "metadata": {},
   "outputs": [],
   "source": [
    "# Agrupar por autores\n",
    "author_grouped = books_info.groupby('authors')"
   ]
  },
  {
   "cell_type": "code",
   "execution_count": 5,
   "metadata": {},
   "outputs": [
    {
     "data": {
      "text/html": [
       "<div>\n",
       "<style scoped>\n",
       "    .dataframe tbody tr th:only-of-type {\n",
       "        vertical-align: middle;\n",
       "    }\n",
       "\n",
       "    .dataframe tbody tr th {\n",
       "        vertical-align: top;\n",
       "    }\n",
       "\n",
       "    .dataframe thead th {\n",
       "        text-align: right;\n",
       "    }\n",
       "</style>\n",
       "<table border=\"1\" class=\"dataframe\">\n",
       "  <thead>\n",
       "    <tr style=\"text-align: right;\">\n",
       "      <th></th>\n",
       "      <th>book_id</th>\n",
       "      <th>title</th>\n",
       "      <th>authors</th>\n",
       "      <th>genres</th>\n",
       "    </tr>\n",
       "  </thead>\n",
       "  <tbody>\n",
       "    <tr>\n",
       "      <th>0</th>\n",
       "      <td>1</td>\n",
       "      <td>The Hunger Games (The Hunger Games, #1)</td>\n",
       "      <td>Suzanne Collins</td>\n",
       "      <td>[young-adult, fiction, fantasy, science-fictio...</td>\n",
       "    </tr>\n",
       "    <tr>\n",
       "      <th>14</th>\n",
       "      <td>17</td>\n",
       "      <td>Catching Fire (The Hunger Games, #2)</td>\n",
       "      <td>Suzanne Collins</td>\n",
       "      <td>[young-adult, fiction, fantasy, science-fictio...</td>\n",
       "    </tr>\n",
       "    <tr>\n",
       "      <th>16</th>\n",
       "      <td>20</td>\n",
       "      <td>Mockingjay (The Hunger Games, #3)</td>\n",
       "      <td>Suzanne Collins</td>\n",
       "      <td>[young-adult, fiction, fantasy, science-fictio...</td>\n",
       "    </tr>\n",
       "    <tr>\n",
       "      <th>466</th>\n",
       "      <td>507</td>\n",
       "      <td>The Hunger Games Trilogy Boxset (The Hunger Ga...</td>\n",
       "      <td>Suzanne Collins</td>\n",
       "      <td>[young-adult, fiction, fantasy, science-fictio...</td>\n",
       "    </tr>\n",
       "    <tr>\n",
       "      <th>1438</th>\n",
       "      <td>1531</td>\n",
       "      <td>Gregor the Overlander (Underland Chronicles, #1)</td>\n",
       "      <td>Suzanne Collins</td>\n",
       "      <td>[fantasy, young-adult, fiction, science-fiction]</td>\n",
       "    </tr>\n",
       "    <tr>\n",
       "      <th>2731</th>\n",
       "      <td>2935</td>\n",
       "      <td>Gregor and the Code of Claw (Underland Chronic...</td>\n",
       "      <td>Suzanne Collins</td>\n",
       "      <td>[fantasy, young-adult, fiction]</td>\n",
       "    </tr>\n",
       "    <tr>\n",
       "      <th>2955</th>\n",
       "      <td>3179</td>\n",
       "      <td>Gregor and the Curse of the Warmbloods (Underl...</td>\n",
       "      <td>Suzanne Collins</td>\n",
       "      <td>[fantasy, young-adult, fiction]</td>\n",
       "    </tr>\n",
       "    <tr>\n",
       "      <th>3426</th>\n",
       "      <td>3712</td>\n",
       "      <td>Gregor and the Prophecy of Bane (Underland Chr...</td>\n",
       "      <td>Suzanne Collins</td>\n",
       "      <td>[fantasy, young-adult, fiction]</td>\n",
       "    </tr>\n",
       "    <tr>\n",
       "      <th>4262</th>\n",
       "      <td>4720</td>\n",
       "      <td>Gregor and the Marks of Secret (Underland Chro...</td>\n",
       "      <td>Suzanne Collins</td>\n",
       "      <td>[fantasy, young-adult, fiction]</td>\n",
       "    </tr>\n",
       "  </tbody>\n",
       "</table>\n",
       "</div>"
      ],
      "text/plain": [
       "      book_id                                              title  \\\n",
       "0           1            The Hunger Games (The Hunger Games, #1)   \n",
       "14         17               Catching Fire (The Hunger Games, #2)   \n",
       "16         20                  Mockingjay (The Hunger Games, #3)   \n",
       "466       507  The Hunger Games Trilogy Boxset (The Hunger Ga...   \n",
       "1438     1531   Gregor the Overlander (Underland Chronicles, #1)   \n",
       "2731     2935  Gregor and the Code of Claw (Underland Chronic...   \n",
       "2955     3179  Gregor and the Curse of the Warmbloods (Underl...   \n",
       "3426     3712  Gregor and the Prophecy of Bane (Underland Chr...   \n",
       "4262     4720  Gregor and the Marks of Secret (Underland Chro...   \n",
       "\n",
       "              authors                                             genres  \n",
       "0     Suzanne Collins  [young-adult, fiction, fantasy, science-fictio...  \n",
       "14    Suzanne Collins  [young-adult, fiction, fantasy, science-fictio...  \n",
       "16    Suzanne Collins  [young-adult, fiction, fantasy, science-fictio...  \n",
       "466   Suzanne Collins  [young-adult, fiction, fantasy, science-fictio...  \n",
       "1438  Suzanne Collins   [fantasy, young-adult, fiction, science-fiction]  \n",
       "2731  Suzanne Collins                    [fantasy, young-adult, fiction]  \n",
       "2955  Suzanne Collins                    [fantasy, young-adult, fiction]  \n",
       "3426  Suzanne Collins                    [fantasy, young-adult, fiction]  \n",
       "4262  Suzanne Collins                    [fantasy, young-adult, fiction]  "
      ]
     },
     "execution_count": 5,
     "metadata": {},
     "output_type": "execute_result"
    }
   ],
   "source": [
    "# Libros de Suzanne Collins\n",
    "suzanne_collins = author_grouped.get_group('Suzanne Collins')\n",
    "suzanne_collins"
   ]
  },
  {
   "cell_type": "code",
   "execution_count": 6,
   "metadata": {},
   "outputs": [
    {
     "data": {
      "text/plain": [
       "(0.52206093, 0.18181205)"
      ]
     },
     "execution_count": 6,
     "metadata": {},
     "output_type": "execute_result"
    }
   ],
   "source": [
    "# Crear pares de libros por autor\n",
    "authors: list[str] = list(set(author_grouped.groups.keys()))\n",
    "paired_books: list[tuple[int, int]] = []\n",
    "for author in authors:\n",
    "    author_books = author_grouped.get_group(author)\n",
    "    book_ids = author_books['book_id'].values\n",
    "    num_books = len(book_ids)\n",
    "    if num_books % 2 != 0:\n",
    "        book_ids = book_ids[:-1]\n",
    "        num_books -= 1\n",
    "    paired_books += [(book_ids[i], book_ids[i + 1]) for i in range(0, num_books, 2)]\n",
    "    \n",
    "# Selección aleatoria de N = 2000 parejas\n",
    "random.seed(42)\n",
    "N = 2000\n",
    "random_paired_books = random.sample(paired_books, N)\n",
    "\n",
    "# Calcular similitud entre campos 'semantic_sbert' de cada pareja\n",
    "sims = [\n",
    "    np.dot(\n",
    "        books_raw[books_raw['book_id'] == id1]['semantic_sbert'].values[0],\n",
    "        books_raw[books_raw['book_id'] == id2]['semantic_sbert'].values[0]\n",
    "    )\n",
    "    for (id1, id2) in random_paired_books\n",
    "]\n",
    "np.mean(sims), np.std(sims)"
   ]
  },
  {
   "cell_type": "markdown",
   "metadata": {},
   "source": [
    "### Parejas de libros con misma colección de géneros"
   ]
  },
  {
   "cell_type": "code",
   "execution_count": 7,
   "metadata": {},
   "outputs": [],
   "source": [
    "# Hacer las listas de géneros únicas\n",
    "books_info['genres'] = books_info['genres'].apply(lambda x: frozenset(x))"
   ]
  },
  {
   "cell_type": "code",
   "execution_count": 8,
   "metadata": {},
   "outputs": [],
   "source": [
    "genre_grouped = books_info.groupby('genres')"
   ]
  },
  {
   "cell_type": "code",
   "execution_count": 9,
   "metadata": {},
   "outputs": [
    {
     "data": {
      "text/html": [
       "<div>\n",
       "<style scoped>\n",
       "    .dataframe tbody tr th:only-of-type {\n",
       "        vertical-align: middle;\n",
       "    }\n",
       "\n",
       "    .dataframe tbody tr th {\n",
       "        vertical-align: top;\n",
       "    }\n",
       "\n",
       "    .dataframe thead th {\n",
       "        text-align: right;\n",
       "    }\n",
       "</style>\n",
       "<table border=\"1\" class=\"dataframe\">\n",
       "  <thead>\n",
       "    <tr style=\"text-align: right;\">\n",
       "      <th></th>\n",
       "      <th>book_id</th>\n",
       "      <th>title</th>\n",
       "      <th>authors</th>\n",
       "      <th>genres</th>\n",
       "    </tr>\n",
       "  </thead>\n",
       "  <tbody>\n",
       "    <tr>\n",
       "      <th>55</th>\n",
       "      <td>62</td>\n",
       "      <td>The Golden Compass (His Dark Materials, #1)</td>\n",
       "      <td>Philip Pullman</td>\n",
       "      <td>(fiction, young-adult, fantasy, science-fiction)</td>\n",
       "    </tr>\n",
       "    <tr>\n",
       "      <th>194</th>\n",
       "      <td>215</td>\n",
       "      <td>Ready Player One</td>\n",
       "      <td>Ernest Cline</td>\n",
       "      <td>(fiction, young-adult, fantasy, science-fiction)</td>\n",
       "    </tr>\n",
       "    <tr>\n",
       "      <th>201</th>\n",
       "      <td>223</td>\n",
       "      <td>Artemis Fowl (Artemis Fowl, #1)</td>\n",
       "      <td>Eoin Colfer</td>\n",
       "      <td>(fiction, young-adult, fantasy, science-fiction)</td>\n",
       "    </tr>\n",
       "    <tr>\n",
       "      <th>343</th>\n",
       "      <td>376</td>\n",
       "      <td>The Death Cure (Maze Runner, #3)</td>\n",
       "      <td>James Dashner</td>\n",
       "      <td>(fiction, young-adult, fantasy, science-fiction)</td>\n",
       "    </tr>\n",
       "    <tr>\n",
       "      <th>442</th>\n",
       "      <td>480</td>\n",
       "      <td>The Amber Spyglass (His Dark Materials, #3)</td>\n",
       "      <td>Philip Pullman</td>\n",
       "      <td>(fiction, young-adult, fantasy, science-fiction)</td>\n",
       "    </tr>\n",
       "  </tbody>\n",
       "</table>\n",
       "</div>"
      ],
      "text/plain": [
       "     book_id                                        title         authors  \\\n",
       "55        62  The Golden Compass (His Dark Materials, #1)  Philip Pullman   \n",
       "194      215                             Ready Player One    Ernest Cline   \n",
       "201      223              Artemis Fowl (Artemis Fowl, #1)     Eoin Colfer   \n",
       "343      376             The Death Cure (Maze Runner, #3)   James Dashner   \n",
       "442      480  The Amber Spyglass (His Dark Materials, #3)  Philip Pullman   \n",
       "\n",
       "                                               genres  \n",
       "55   (fiction, young-adult, fantasy, science-fiction)  \n",
       "194  (fiction, young-adult, fantasy, science-fiction)  \n",
       "201  (fiction, young-adult, fantasy, science-fiction)  \n",
       "343  (fiction, young-adult, fantasy, science-fiction)  \n",
       "442  (fiction, young-adult, fantasy, science-fiction)  "
      ]
     },
     "execution_count": 9,
     "metadata": {},
     "output_type": "execute_result"
    }
   ],
   "source": [
    "sf_young_genre = frozenset(['young-adult', 'fiction', 'fantasy', 'science-fiction'])\n",
    "sf_young = genre_grouped.get_group(sf_young_genre)\n",
    "sf_young.head()"
   ]
  },
  {
   "cell_type": "code",
   "execution_count": 10,
   "metadata": {},
   "outputs": [
    {
     "data": {
      "text/plain": [
       "(0.42866492, 0.18337564)"
      ]
     },
     "execution_count": 10,
     "metadata": {},
     "output_type": "execute_result"
    }
   ],
   "source": [
    "# Crear pares de libros por conjunto de géneros\n",
    "genres: list[frozenset[str]] = list(set(genre_grouped.groups.keys()))\n",
    "paired_books: list[tuple[int, int]] = []\n",
    "for genre in genres:\n",
    "    genre_books = genre_grouped.get_group(genre)\n",
    "    book_ids = genre_books['book_id'].values\n",
    "    num_books = len(book_ids)\n",
    "    if num_books % 2 != 0:\n",
    "        book_ids = book_ids[:-1]\n",
    "        num_books -= 1\n",
    "    paired_books += [(book_ids[i], book_ids[i + 1]) for i in range(0, num_books, 2)]\n",
    "\n",
    "# Selección aleatoria de N = 2000 parejas\n",
    "random.seed(42)\n",
    "N = 2000\n",
    "random_paired_books = random.sample(paired_books, N)\n",
    "\n",
    "# Calcular similitud entre campos 'semantic_sbert' de cada pareja\n",
    "sims = [\n",
    "    np.dot(\n",
    "        books_raw[books_raw['book_id'] == id1]['semantic_sbert'].values[0],\n",
    "        books_raw[books_raw['book_id'] == id2]['semantic_sbert'].values[0]\n",
    "    )\n",
    "    for (id1, id2) in random_paired_books\n",
    "]\n",
    "np.mean(sims), np.std(sims)"
   ]
  }
 ],
 "metadata": {
  "kernelspec": {
   "display_name": "tfg_info",
   "language": "python",
   "name": "python3"
  },
  "language_info": {
   "codemirror_mode": {
    "name": "ipython",
    "version": 3
   },
   "file_extension": ".py",
   "mimetype": "text/x-python",
   "name": "python",
   "nbconvert_exporter": "python",
   "pygments_lexer": "ipython3",
   "version": "3.11.6"
  }
 },
 "nbformat": 4,
 "nbformat_minor": 2
}
